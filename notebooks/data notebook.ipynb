{
 "cells": [
  {
   "attachments": {},
   "cell_type": "markdown",
   "metadata": {},
   "source": [
    "chess data import"
   ]
  },
  {
   "cell_type": "code",
   "execution_count": null,
   "metadata": {},
   "outputs": [],
   "source": [
    "import requests\n",
    "from bs4 import BeautifulSoup\n",
    "from tqdm.notebook import tqdm\n",
    "import time\n",
    "\n",
    "headers = {\n",
    "    'User-Agent': 'Mozilla/5.0 (X11; Ubuntu; Linux x86_64; rv:109.0) Gecko/20100101 Firefox/113.0'\n",
    "}\n",
    "\n",
    "players = {\n",
    "    \"Magnus Carlsen\": \"https://www.chess.com/games/search?fromSearchShort=1&p1=Magnus%20Carlsen&playerId=822231&page=\",\n",
    "    \"Hikaru Nakamura\": \"https://www.chess.com/games/search?fromSearchShort=1&p1=Hikaru%20Nakamura&playerId=291573&page=\",\n",
    "    \"Garry Kasparov\": \"https://www.chess.com/games/search?fromSearchShort=1&p1=Garry%20Kasparov&playerId=21779&page=\",\n",
    "    \"Viswanathan Anand\": \"https://www.chess.com/games/search?fromSearchShort=1&p1=Viswanathan%20Anand&playerId=284082&page=\",\n",
    "    \"Fabiano Caruana\": \"https://www.chess.com/games/search?fromSearchShort=1&p1=Fabiano%20Caruana&playerId=42382&page=\",\n",
    "    \"Alexander Morozevich\": \"https://www.chess.com/games/search?fromSearchShort=1&p1=Alexander%20Morozevich&playerId=32913&page=\",\n",
    "    \"Alan Pichot\": \"https://www.chess.com/games/search?fromSearchShort=1&p1=Alan%20Pichot&playerId=813915&page=2\"\n",
    "}\n",
    "\n",
    "pgn_file = \"../data/all_games.pgn\"  # Path to save the combined PGN file\n",
    "\n",
    "for player, player_url in players.items():\n",
    "    game_ids = []\n",
    "\n",
    "    for page in tqdm(range(40)):   # this attempts to grab the first 25 pages\n",
    "        URL = f'{player_url}{page}'\n",
    "        response = requests.get(URL, headers=headers)\n",
    "        if response.status_code != 200:\n",
    "            print(f'Error retrieving games for {player} on page {page}')\n",
    "            break\n",
    "        soup = BeautifulSoup(response.text)\n",
    "        page_game_ids = [x.get('href') for x in soup.find_all('a', {'class': 'master-games-clickable-link master-games-td-user'})]\n",
    "        page_game_ids = [x.split('/')[-1] for x in page_game_ids]\n",
    "        game_ids.extend(page_game_ids)\n",
    "        time.sleep(15)\n",
    "\n",
    "    # Join game ids\n",
    "    game_ids = ','.join(game_ids)\n",
    "\n",
    "    DOWNLOAD_URL = f'https://www.chess.com/games/downloadPgn?game_ids={game_ids}'\n",
    "    download_response = requests.get(DOWNLOAD_URL)\n",
    "\n",
    "    with open(pgn_file, 'ab') as file:\n",
    "        file.write(download_response.content)"
   ]
  },
  {
   "attachments": {},
   "cell_type": "markdown",
   "metadata": {},
   "source": [
    "best move cache creation"
   ]
  },
  {
   "cell_type": "code",
   "execution_count": null,
   "metadata": {},
   "outputs": [],
   "source": [
    "import pickle\n",
    "\n",
    "# Convert board states to FEN strings\n",
    "fen_list = [board.fen() for game in board_states for board in game]\n",
    "\n",
    "# Create an empty cache\n",
    "cache = {}\n",
    "\n",
    "# Process fen_list and populate the cache with best moves\n",
    "for fen in fen_list:\n",
    "    # Set the position in Stockfish\n",
    "    stockfish.set_fen_position(fen)\n",
    "\n",
    "    # Get the best move from Stockfish\n",
    "    best_move = stockfish.get_best_move()\n",
    "\n",
    "    # Add the best move to the cache\n",
    "    cache[fen] = best_move\n",
    "\n",
    "# Save the cache as a pickle file\n",
    "with open(\"cache.pkl\", \"wb\") as file:\n",
    "    pickle.dump(cache, file)"
   ]
  }
 ],
 "metadata": {
  "language_info": {
   "name": "python"
  },
  "orig_nbformat": 4
 },
 "nbformat": 4,
 "nbformat_minor": 2
}
