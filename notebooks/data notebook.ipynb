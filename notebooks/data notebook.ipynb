{
 "cells": [
  {
   "attachments": {},
   "cell_type": "markdown",
   "metadata": {},
   "source": [
    "libraries"
   ]
  },
  {
   "cell_type": "code",
   "execution_count": 1,
   "metadata": {},
   "outputs": [],
   "source": [
    "import pandas as pd\n",
    "import numpy as np\n",
    "import requests\n",
    "import time\n",
    "import chess\n",
    "import chess.pgn\n",
    "from bs4 import BeautifulSoup\n",
    "from tqdm.notebook import tqdm"
   ]
  },
  {
   "attachments": {},
   "cell_type": "markdown",
   "metadata": {},
   "source": [
    "chess data import"
   ]
  },
  {
   "cell_type": "code",
   "execution_count": null,
   "metadata": {},
   "outputs": [],
   "source": [
    "headers = {\n",
    "    'User-Agent': 'Mozilla/5.0 (X11; Ubuntu; Linux x86_64; rv:109.0) Gecko/20100101 Firefox/113.0'\n",
    "}\n",
    "\n",
    "players = {\n",
    "    \"Magnus Carlsen\": \"https://www.chess.com/games/search?fromSearchShort=1&p1=Magnus%20Carlsen&playerId=822231&page=\",\n",
    "    \"Hikaru Nakamura\": \"https://www.chess.com/games/search?fromSearchShort=1&p1=Hikaru%20Nakamura&playerId=291573&page=\",\n",
    "    \"Garry Kasparov\": \"https://www.chess.com/games/search?fromSearchShort=1&p1=Garry%20Kasparov&playerId=21779&page=\",\n",
    "    \"Viswanathan Anand\": \"https://www.chess.com/games/search?fromSearchShort=1&p1=Viswanathan%20Anand&playerId=284082&page=\",\n",
    "    \"Fabiano Caruana\": \"https://www.chess.com/games/search?fromSearchShort=1&p1=Fabiano%20Caruana&playerId=42382&page=\",\n",
    "    \"Alexander Morozevich\": \"https://www.chess.com/games/search?fromSearchShort=1&p1=Alexander%20Morozevich&playerId=32913&page=\",\n",
    "    \"Alan Pichot\": \"https://www.chess.com/games/search?fromSearchShort=1&p1=Alan%20Pichot&playerId=813915&page=\",\n",
    "    \"Bobby Fischer\": \"https://www.chess.com/games/search?fromSearchShort=1&p1=Bobby%20Fischer&playerId=1092583&page=\",\n",
    "    \"Aleksandar Indjic\": \"https://www.chess.com/games/search?fromSearchShort=1&p1=Aleksandar%20Indjic&playerId=823770&page=\",\n",
    "    \"Alexander Donchenko\": \"https://www.chess.com/games/search?fromSearchShort=1&p1=Alexander%20Donchenko&playerId=285507&page=\",\n",
    "    \"Aleksey Dreev\": \"https://www.chess.com/games/search?fromSearchShort=1&p1=Aleksey%20Dreev&playerId=28661&page=\",\n",
    "    \"David Paravyan\": \"https://www.chess.com/games/search?fromSearchShort=1&p1=David%20Paravyan&playerId=827967&page=\",\n",
    "    \"Ding Liren\": \"https://www.chess.com/games/search?fromSearchShort=1&p1=Ding%20Liren&playerId=42388&page=\",\n",
    "    \"Francisco Vallejo Pons\": \"https://www.chess.com/games/search?fromSearchShort=1&p1=Francisco%20Vallejo%20Pons&playerId=34529&page=\",\n",
    "    \"George Meier\": \"https://www.chess.com/games/search?fromSearchShort=1&p1=Georg%20Meier&playerId=40740&page=\",\n",
    "    \"Gregory Kaidanov\": \"https://www.chess.com/games/search?fromSearchShort=1&p1=Gregory%20Kaidanov&playerId=19769&page=\",\n",
    "    \"Ivan Saric\": \"https://www.chess.com/games/search?fromSearchShort=1&p1=Ivan%20Saric&playerId=43211&page=\",\n",
    "    \"Jan-Krzysztof Duda\": \"https://www.chess.com/games/search?fromSearchShort=1&p1=Jan-Krzysztof%20Duda&playerId=822255&page=\",\n",
    "    \"Ju Wenjun\": \"https://www.chess.com/games/search?fromSearchShort=1&p1=Ju%20Wenjun&playerId=42865&page=\",\n",
    "    \"Kiril Georgiev\": \"https://www.chess.com/games/search?fromSearchShort=1&p1=Kiril%20Georgiev&playerId=26897&page=\",\n",
    "    \"Le Quang Liem\": \"https://www.chess.com/games/search?fromSearchShort=1&p1=Le%20Quang%20Liem&playerId=41329&page=\",\n",
    "    \"Maxim Matlakov\": \"https://www.chess.com/games/search?fromSearchShort=1&p1=Maxim%20Matlakov&playerId=41788&page=\",\n",
    "    \"Pavel Ponkratov\": \"https://www.chess.com/games/search?fromSearchShort=1&p1=Pavel%20Ponkratov&playerId=42016&page=\",\n",
    "    \"Richard Rapport\": \"https://www.chess.com/games/search?fromSearchShort=1&p1=Richard%20Rapport&playerId=290480&page=\",\n",
    "    \"Sergey Karjakin\": \"https://www.chess.com/games/search?fromSearchShort=1&p1=Sergey%20Karjakin&playerId=39821&page=\",\n",
    "    \"Sergei Zhigalko\": \"https://www.chess.com/games/search?fromSearchShort=1&p1=Sergei%20Zhigalko&playerId=40749&page=\",\n",
    "    \"Yu Yangyi\": \"https://www.chess.com/games/search?fromSearchShort=1&p1=Yu%20Yangyi&playerId=287192&page=\",\n",
    "    \"Romain Edouard\": \"https://www.chess.com/games/search?fromSearchShort=1&p1=Romain%20Edouard&playerId=43361&page=\",\n",
    "    \"Saleh Salem\": \"https://www.chess.com/games/search?fromSearchShort=1&p1=Saleh%20Salem&playerId=1034323&page=\",\n",
    "    \"Sanan Sjugirov\": \"https://www.chess.com/games/search?fromSearchShort=1&p1=Sanan%20Sjugirov&playerId=43882&page=\"\n",
    "}\n",
    "\n",
    "pgn_file = \"../data/all_games.pgn\"  # Path to save the combined PGN file\n",
    "\n",
    "for player, player_url in players.items():\n",
    "    game_ids = []\n",
    "\n",
    "    for page in tqdm(range(40)):   # this attempts to grab the first 25 pages\n",
    "        URL = f'{player_url}{page}'\n",
    "        response = requests.get(URL, headers=headers)\n",
    "        if response.status_code != 200:\n",
    "            print(f'Error retrieving games for {player} on page {page}')\n",
    "            break\n",
    "        soup = BeautifulSoup(response.text)\n",
    "        page_game_ids = [x.get('href') for x in soup.find_all('a', {'class': 'master-games-clickable-link master-games-td-user'})]\n",
    "        page_game_ids = [x.split('/')[-1] for x in page_game_ids]\n",
    "        game_ids.extend(page_game_ids)\n",
    "        time.sleep(15)\n",
    "\n",
    "    # Join game ids\n",
    "    game_ids = ','.join(game_ids)\n",
    "\n",
    "    DOWNLOAD_URL = f'https://www.chess.com/games/downloadPgn?game_ids={game_ids}'\n",
    "    download_response = requests.get(DOWNLOAD_URL)\n",
    "\n",
    "    with open(pgn_file, 'ab') as file:\n",
    "        file.write(download_response.content)"
   ]
  },
  {
   "attachments": {},
   "cell_type": "markdown",
   "metadata": {},
   "source": [
    "formatting / processing data"
   ]
  },
  {
   "cell_type": "code",
   "execution_count": null,
   "metadata": {},
   "outputs": [],
   "source": [
    "import pandas as pd\n",
    "import numpy as np\n",
    "\n",
    "\n",
    "def extract_moves(game):\n",
    "    moves = []\n",
    "    node = game\n",
    "    move_number = 1\n",
    "    board = chess.Board()  # Create a new board object\n",
    "    while not node.is_end():\n",
    "        node = node.variations[0]\n",
    "        move = node.move\n",
    "        color = \"Black\" if node.board().turn == chess.WHITE else \"White\"  # Reverse the color assignment\n",
    "        move_from = chess.square_name(move.from_square)\n",
    "        move_to = chess.square_name(move.to_square)\n",
    "\n",
    "        move_combined = move_from + move_to  # Combine move squares into one string\n",
    "\n",
    "        moves.append((color, move_number, move_combined, get_piece_from_move(board, move)))\n",
    "        move_number += 1\n",
    "        board.push(move)  # Push the move onto the board\n",
    "\n",
    "    return moves\n",
    "\n",
    "def get_piece_from_move(board, move):\n",
    "    piece = board.piece_at(move.from_square)\n",
    "    if piece is None:\n",
    "        return \"Pawn\"\n",
    "    elif piece.piece_type == chess.KNIGHT:\n",
    "        return \"Knight\"\n",
    "    elif piece.piece_type == chess.BISHOP:\n",
    "        return \"Bishop\"\n",
    "    elif piece.piece_type == chess.ROOK:\n",
    "        return \"Rook\"\n",
    "    elif piece.piece_type == chess.QUEEN:\n",
    "        return \"Queen\"\n",
    "    elif piece.piece_type == chess.KING:\n",
    "        return \"King\"\n",
    "    else:\n",
    "        return \"Pawn\"\n",
    "\n",
    "# Initialize empty lists for each column of the DataFrame\n",
    "game_id_list = []\n",
    "white_result_list = []\n",
    "black_result_list = []\n",
    "color_list = []\n",
    "move_number_list = []\n",
    "move_list = []\n",
    "piece_list = []\n",
    "\n",
    "pgn_file = \"../data/all_games.pgn\"  # Path to the combined PGN file\n",
    "\n",
    "# Open the PGN file\n",
    "with open(pgn_file) as f:\n",
    "    game_number = 1\n",
    "    while True:\n",
    "        game = chess.pgn.read_game(f)\n",
    "        if game is None:\n",
    "            break\n",
    "\n",
    "        # Extract information about the game\n",
    "        headers = game.headers\n",
    "        game_id = game_number  # Use the game_number as the game ID\n",
    "        game_number += 1\n",
    "        result = headers[\"Result\"]\n",
    "        white_result = 0\n",
    "        black_result = 0\n",
    "\n",
    "        if result == \"1-0\":\n",
    "            white_result = 1\n",
    "            black_result = 0\n",
    "        elif result == \"0-1\":\n",
    "            white_result = 0\n",
    "            black_result = 1\n",
    "\n",
    "        # Extract the moves\n",
    "        moves = extract_moves(game)\n",
    "\n",
    "        # Append the information for the game to the lists\n",
    "        for color, move_number, move_combined, piece in moves:\n",
    "            game_id_list.append(game_id)\n",
    "            white_result_list.append(white_result)\n",
    "            black_result_list.append(black_result)\n",
    "            color_list.append(color)\n",
    "            move_number_list.append(move_number)\n",
    "            move_list.append(move_combined)\n",
    "            piece_list.append(piece)\n",
    "\n",
    "# Create a DataFrame from the extracted data\n",
    "data = {\n",
    "    \"Game ID\": game_id_list,\n",
    "    \"White Result\": white_result_list,\n",
    "    \"Black Result\": black_result_list,\n",
    "    \"Color\": color_list,\n",
    "    \"Move Number\": move_number_list,\n",
    "    \"Move\": move_list,\n",
    "    \"Piece\": piece_list\n",
    "}\n",
    "df = pd.DataFrame(data)\n",
    "df"
   ]
  },
  {
   "attachments": {},
   "cell_type": "markdown",
   "metadata": {},
   "source": [
    "read in 30k games data"
   ]
  },
  {
   "cell_type": "code",
   "execution_count": 2,
   "metadata": {},
   "outputs": [
    {
     "data": {
      "text/html": [
       "<div>\n",
       "<style scoped>\n",
       "    .dataframe tbody tr th:only-of-type {\n",
       "        vertical-align: middle;\n",
       "    }\n",
       "\n",
       "    .dataframe tbody tr th {\n",
       "        vertical-align: top;\n",
       "    }\n",
       "\n",
       "    .dataframe thead th {\n",
       "        text-align: right;\n",
       "    }\n",
       "</style>\n",
       "<table border=\"1\" class=\"dataframe\">\n",
       "  <thead>\n",
       "    <tr style=\"text-align: right;\">\n",
       "      <th></th>\n",
       "      <th>Game ID</th>\n",
       "      <th>White Result</th>\n",
       "      <th>Black Result</th>\n",
       "      <th>Color</th>\n",
       "      <th>Move Number</th>\n",
       "      <th>Move</th>\n",
       "      <th>Piece</th>\n",
       "    </tr>\n",
       "  </thead>\n",
       "  <tbody>\n",
       "    <tr>\n",
       "      <th>0</th>\n",
       "      <td>1</td>\n",
       "      <td>1</td>\n",
       "      <td>0</td>\n",
       "      <td>White</td>\n",
       "      <td>1</td>\n",
       "      <td>a2a4</td>\n",
       "      <td>Pawn</td>\n",
       "    </tr>\n",
       "    <tr>\n",
       "      <th>1</th>\n",
       "      <td>1</td>\n",
       "      <td>1</td>\n",
       "      <td>0</td>\n",
       "      <td>Black</td>\n",
       "      <td>2</td>\n",
       "      <td>g8f6</td>\n",
       "      <td>Knight</td>\n",
       "    </tr>\n",
       "    <tr>\n",
       "      <th>2</th>\n",
       "      <td>1</td>\n",
       "      <td>1</td>\n",
       "      <td>0</td>\n",
       "      <td>White</td>\n",
       "      <td>3</td>\n",
       "      <td>d2d4</td>\n",
       "      <td>Pawn</td>\n",
       "    </tr>\n",
       "    <tr>\n",
       "      <th>3</th>\n",
       "      <td>1</td>\n",
       "      <td>1</td>\n",
       "      <td>0</td>\n",
       "      <td>Black</td>\n",
       "      <td>4</td>\n",
       "      <td>d7d5</td>\n",
       "      <td>Pawn</td>\n",
       "    </tr>\n",
       "    <tr>\n",
       "      <th>4</th>\n",
       "      <td>1</td>\n",
       "      <td>1</td>\n",
       "      <td>0</td>\n",
       "      <td>White</td>\n",
       "      <td>5</td>\n",
       "      <td>g1f3</td>\n",
       "      <td>Knight</td>\n",
       "    </tr>\n",
       "    <tr>\n",
       "      <th>...</th>\n",
       "      <td>...</td>\n",
       "      <td>...</td>\n",
       "      <td>...</td>\n",
       "      <td>...</td>\n",
       "      <td>...</td>\n",
       "      <td>...</td>\n",
       "      <td>...</td>\n",
       "    </tr>\n",
       "    <tr>\n",
       "      <th>2529402</th>\n",
       "      <td>29319</td>\n",
       "      <td>1</td>\n",
       "      <td>0</td>\n",
       "      <td>White</td>\n",
       "      <td>139</td>\n",
       "      <td>a7d4</td>\n",
       "      <td>Queen</td>\n",
       "    </tr>\n",
       "    <tr>\n",
       "      <th>2529403</th>\n",
       "      <td>29319</td>\n",
       "      <td>1</td>\n",
       "      <td>0</td>\n",
       "      <td>Black</td>\n",
       "      <td>140</td>\n",
       "      <td>f6f7</td>\n",
       "      <td>King</td>\n",
       "    </tr>\n",
       "    <tr>\n",
       "      <th>2529404</th>\n",
       "      <td>29319</td>\n",
       "      <td>1</td>\n",
       "      <td>0</td>\n",
       "      <td>White</td>\n",
       "      <td>141</td>\n",
       "      <td>a6a7</td>\n",
       "      <td>Pawn</td>\n",
       "    </tr>\n",
       "    <tr>\n",
       "      <th>2529405</th>\n",
       "      <td>29319</td>\n",
       "      <td>1</td>\n",
       "      <td>0</td>\n",
       "      <td>Black</td>\n",
       "      <td>142</td>\n",
       "      <td>c6c5</td>\n",
       "      <td>Pawn</td>\n",
       "    </tr>\n",
       "    <tr>\n",
       "      <th>2529406</th>\n",
       "      <td>29319</td>\n",
       "      <td>1</td>\n",
       "      <td>0</td>\n",
       "      <td>White</td>\n",
       "      <td>143</td>\n",
       "      <td>d4d5</td>\n",
       "      <td>Queen</td>\n",
       "    </tr>\n",
       "  </tbody>\n",
       "</table>\n",
       "<p>2529407 rows × 7 columns</p>\n",
       "</div>"
      ],
      "text/plain": [
       "         Game ID  White Result  Black Result  Color  Move Number  Move   Piece\n",
       "0              1             1             0  White            1  a2a4    Pawn\n",
       "1              1             1             0  Black            2  g8f6  Knight\n",
       "2              1             1             0  White            3  d2d4    Pawn\n",
       "3              1             1             0  Black            4  d7d5    Pawn\n",
       "4              1             1             0  White            5  g1f3  Knight\n",
       "...          ...           ...           ...    ...          ...   ...     ...\n",
       "2529402    29319             1             0  White          139  a7d4   Queen\n",
       "2529403    29319             1             0  Black          140  f6f7    King\n",
       "2529404    29319             1             0  White          141  a6a7    Pawn\n",
       "2529405    29319             1             0  Black          142  c6c5    Pawn\n",
       "2529406    29319             1             0  White          143  d4d5   Queen\n",
       "\n",
       "[2529407 rows x 7 columns]"
      ]
     },
     "execution_count": 2,
     "metadata": {},
     "output_type": "execute_result"
    }
   ],
   "source": [
    "df = pd.read_csv('df.csv')\n",
    "df"
   ]
  },
  {
   "attachments": {},
   "cell_type": "markdown",
   "metadata": {},
   "source": [
    "encode dataframe"
   ]
  },
  {
   "cell_type": "code",
   "execution_count": 3,
   "metadata": {},
   "outputs": [
    {
     "name": "stdout",
     "output_type": "stream",
     "text": [
      "   Game ID  White Result  Black Result  Move Number  Move_a1a1  Move_a1a2  \\\n",
      "0        1             1             0            1          0          0   \n",
      "1        1             1             0            2          0          0   \n",
      "2        1             1             0            3          0          0   \n",
      "3        1             1             0            4          0          0   \n",
      "4        1             1             0            5          0          0   \n",
      "\n",
      "   Move_a1a3  Move_a1a4  Move_a1a5  Move_a1a6  ...  Move_h8h6  Move_h8h7  \\\n",
      "0          0          0          0          0  ...          0          0   \n",
      "1          0          0          0          0  ...          0          0   \n",
      "2          0          0          0          0  ...          0          0   \n",
      "3          0          0          0          0  ...          0          0   \n",
      "4          0          0          0          0  ...          0          0   \n",
      "\n",
      "   Piece_Bishop  Piece_King  Piece_Knight  Piece_Pawn  Piece_Queen  \\\n",
      "0             0           0             0           1            0   \n",
      "1             0           0             1           0            0   \n",
      "2             0           0             0           1            0   \n",
      "3             0           0             0           1            0   \n",
      "4             0           0             1           0            0   \n",
      "\n",
      "   Piece_Rook  Color_Black  Color_White  \n",
      "0           0            0            1  \n",
      "1           0            1            0  \n",
      "2           0            0            1  \n",
      "3           0            1            0  \n",
      "4           0            0            1  \n",
      "\n",
      "[5 rows x 1805 columns]\n"
     ]
    }
   ],
   "source": [
    "# Perform one-hot encoding on the 'Move', 'Piece', and 'Color' columns\n",
    "df_encoded = pd.get_dummies(df, columns=['Move', 'Piece', 'Color'])\n",
    "\n",
    "# Verify the encoded DataFrame\n",
    "print(df_encoded.head())"
   ]
  },
  {
   "attachments": {},
   "cell_type": "markdown",
   "metadata": {},
   "source": [
    "create board states array using encoded df"
   ]
  },
  {
   "cell_type": "code",
   "execution_count": 5,
   "metadata": {},
   "outputs": [],
   "source": [
    "# Define a mapping between piece names and piece symbols\n",
    "piece_mapping = {\n",
    "    'Pawn': chess.PAWN,\n",
    "    'Knight': chess.KNIGHT,\n",
    "    'Bishop': chess.BISHOP,\n",
    "    'Rook': chess.ROOK,\n",
    "    'Queen': chess.QUEEN,\n",
    "    'King': chess.KING\n",
    "}\n",
    "\n",
    "# Initialize an empty list for board states\n",
    "board_states = []\n",
    "\n",
    "# Group the data by 'Game ID'\n",
    "grouped_data = df_encoded.groupby('Game ID')\n",
    "\n",
    "# Iterate over each group\n",
    "for group_name, group_data in grouped_data:\n",
    "    # Create a new board object for each game\n",
    "    board = chess.Board()\n",
    "    \n",
    "    # Initialize an empty list for the current game's board state\n",
    "    game_board_state = []\n",
    "    \n",
    "    # Iterate over the rows in the current group\n",
    "    for _, row in group_data.iterrows():\n",
    "        # Get the move and piece from the encoded columns\n",
    "        move_columns = row[row.index.str.startswith('Move_')]\n",
    "        move_uci = move_columns.idxmax()[5:] if not move_columns.isnull().all() else None\n",
    "        \n",
    "        # Check if the move is a null move\n",
    "        if move_uci is not None and move_uci == '0000':\n",
    "            continue\n",
    "        \n",
    "        piece_columns = row[row.index.str.startswith('Piece_')]\n",
    "        piece = piece_columns.idxmax()[6:] if not piece_columns.isnull().all() else None\n",
    "        \n",
    "        try:\n",
    "            # Try to create a Move object from the UCI notation\n",
    "            move = chess.Move.from_uci(move_uci) if move_uci is not None else None\n",
    "        except chess.InvalidMoveError:\n",
    "            # If an InvalidMoveError occurs, skip this move and continue with the next one\n",
    "            continue\n",
    "        \n",
    "        # Check if the move is legal for the current board position\n",
    "        if move is not None and board.is_legal(move):\n",
    "            # Ensure that the piece being moved matches the one in the dataset\n",
    "            if piece is None or piece_mapping[piece] == board.piece_at(move.from_square).piece_type:\n",
    "                # Add the board state to the current game's board states\n",
    "                game_board_state.append(board.copy())\n",
    "                \n",
    "                # Make the move on the board\n",
    "                board.push(move)\n",
    "    \n",
    "    # Add the board states of the current game to the overall list\n",
    "    board_states.append(game_board_state)\n",
    "\n",
    "# Convert board states to a NumPy array\n",
    "board_states = np.array(board_states, dtype=object)"
   ]
  },
  {
   "cell_type": "code",
   "execution_count": null,
   "metadata": {},
   "outputs": [],
   "source": [
    "# Save board_states to a file\n",
    "with open('all_board_states.pkl', 'wb') as file:\n",
    "    pickle.dump(board_states, file)"
   ]
  },
  {
   "cell_type": "code",
   "execution_count": 1,
   "metadata": {},
   "outputs": [],
   "source": [
    "import pickle\n",
    "\n",
    "# Load the cache from the pickle file\n",
    "with open(\"board_states.pkl\", \"rb\") as file:\n",
    "    board_states = pickle.load(file)\n",
    "\n",
    "board_states"
   ]
  },
  {
   "cell_type": "code",
   "execution_count": null,
   "metadata": {},
   "outputs": [],
   "source": [
    "board_states"
   ]
  },
  {
   "attachments": {},
   "cell_type": "markdown",
   "metadata": {},
   "source": [
    "use stockfish to find the best move for all board states then store them in a cache"
   ]
  },
  {
   "cell_type": "code",
   "execution_count": 6,
   "metadata": {},
   "outputs": [],
   "source": [
    "from stockfish import Stockfish\n",
    "\n",
    "stockfish = Stockfish(path=\"..\\stockfish\\stockfish-windows-2022-x86-64-avx2.exe\")"
   ]
  },
  {
   "cell_type": "code",
   "execution_count": null,
   "metadata": {},
   "outputs": [],
   "source": [
    "import pickle\n",
    "\n",
    "# Convert board states to FEN strings\n",
    "fen_list = [board.fen() for game in board_states for board in game]\n",
    "\n",
    "# Process fen_list and populate the cache with best moves\n",
    "for fen in fen_list:\n",
    "    # Set the position in Stockfish\n",
    "    stockfish.set_fen_position(fen)\n",
    "\n",
    "    # Get the best move from Stockfish\n",
    "    best_move = stockfish.get_best_move()\n",
    "\n",
    "    # Add the best move to the cache\n",
    "    cache[fen] = best_move\n",
    "\n",
    "# Save the cache as a pickle file\n",
    "with open(\"cache.pkl\", \"wb\") as file:\n",
    "    pickle.dump(cache, file)"
   ]
  },
  {
   "cell_type": "code",
   "execution_count": 10,
   "metadata": {},
   "outputs": [
    {
     "name": "stdout",
     "output_type": "stream",
     "text": [
      "Debug Log File: \n",
      "Contempt: 0\n",
      "Min Split Depth: 0\n",
      "Ponder: false\n",
      "MultiPV: 1\n",
      "Skill Level: 20\n",
      "Move Overhead: 10\n",
      "Minimum Thinking Time: 20\n",
      "Slow Mover: 100\n",
      "UCI_Chess960: false\n",
      "UCI_LimitStrength: false\n",
      "UCI_Elo: 1350\n",
      "Threads: 1\n",
      "Hash: 16\n"
     ]
    }
   ],
   "source": [
    "from stockfish import Stockfish\n",
    "\n",
    "# Initialize Stockfish engine\n",
    "stockfish = Stockfish(path=\"..\\stockfish\\stockfish-windows-2022-x86-64-avx2.exe\")\n",
    "\n",
    "# Get the current parameters\n",
    "parameters = stockfish.get_parameters()\n",
    "\n",
    "# Print the parameters\n",
    "for param, value in parameters.items():\n",
    "    print(f\"{param}: {value}\")"
   ]
  },
  {
   "cell_type": "code",
   "execution_count": 15,
   "metadata": {},
   "outputs": [],
   "source": [
    "import pickle\n",
    "\n",
    "with open('updated_cache.pkl', 'rb') as file:\n",
    "    cache = pickle.load(file)"
   ]
  },
  {
   "cell_type": "code",
   "execution_count": 16,
   "metadata": {},
   "outputs": [
    {
     "data": {
      "text/plain": [
       "1185797"
      ]
     },
     "execution_count": 16,
     "metadata": {},
     "output_type": "execute_result"
    }
   ],
   "source": [
    "len(cache)"
   ]
  },
  {
   "cell_type": "code",
   "execution_count": 17,
   "metadata": {},
   "outputs": [
    {
     "ename": "KeyboardInterrupt",
     "evalue": "",
     "output_type": "error",
     "traceback": [
      "\u001b[1;31m---------------------------------------------------------------------------\u001b[0m",
      "\u001b[1;31mKeyboardInterrupt\u001b[0m                         Traceback (most recent call last)",
      "\u001b[1;32mc:\\Users\\garre\\Documents\\NSS_Projects\\chess_ai_capstone\\notebooks\\data notebook.ipynb Cell 22\u001b[0m in \u001b[0;36m<cell line: 5>\u001b[1;34m()\u001b[0m\n\u001b[0;32m      <a href='vscode-notebook-cell:/c%3A/Users/garre/Documents/NSS_Projects/chess_ai_capstone/notebooks/data%20notebook.ipynb#X31sZmlsZQ%3D%3D?line=7'>8</a>\u001b[0m stockfish\u001b[39m.\u001b[39mset_fen_position(fen)\n\u001b[0;32m     <a href='vscode-notebook-cell:/c%3A/Users/garre/Documents/NSS_Projects/chess_ai_capstone/notebooks/data%20notebook.ipynb#X31sZmlsZQ%3D%3D?line=9'>10</a>\u001b[0m \u001b[39m# Get the best move from Stockfish\u001b[39;00m\n\u001b[1;32m---> <a href='vscode-notebook-cell:/c%3A/Users/garre/Documents/NSS_Projects/chess_ai_capstone/notebooks/data%20notebook.ipynb#X31sZmlsZQ%3D%3D?line=10'>11</a>\u001b[0m best_move \u001b[39m=\u001b[39m stockfish\u001b[39m.\u001b[39;49mget_best_move()\n\u001b[0;32m     <a href='vscode-notebook-cell:/c%3A/Users/garre/Documents/NSS_Projects/chess_ai_capstone/notebooks/data%20notebook.ipynb#X31sZmlsZQ%3D%3D?line=12'>13</a>\u001b[0m \u001b[39m# Add the best move to the cache\u001b[39;00m\n\u001b[0;32m     <a href='vscode-notebook-cell:/c%3A/Users/garre/Documents/NSS_Projects/chess_ai_capstone/notebooks/data%20notebook.ipynb#X31sZmlsZQ%3D%3D?line=13'>14</a>\u001b[0m cache[fen] \u001b[39m=\u001b[39m best_move\n",
      "File \u001b[1;32mc:\\Users\\garre\\anaconda3\\lib\\site-packages\\stockfish\\models.py:338\u001b[0m, in \u001b[0;36mStockfish.get_best_move\u001b[1;34m(self, wtime, btime)\u001b[0m\n\u001b[0;32m    336\u001b[0m \u001b[39melse\u001b[39;00m:\n\u001b[0;32m    337\u001b[0m     \u001b[39mself\u001b[39m\u001b[39m.\u001b[39m_go()\n\u001b[1;32m--> 338\u001b[0m \u001b[39mreturn\u001b[39;00m \u001b[39mself\u001b[39;49m\u001b[39m.\u001b[39;49m_get_best_move_from_sf_popen_process()\n",
      "File \u001b[1;32mc:\\Users\\garre\\anaconda3\\lib\\site-packages\\stockfish\\models.py:358\u001b[0m, in \u001b[0;36mStockfish._get_best_move_from_sf_popen_process\u001b[1;34m(self)\u001b[0m\n\u001b[0;32m    356\u001b[0m last_text: \u001b[39mstr\u001b[39m \u001b[39m=\u001b[39m \u001b[39m\"\u001b[39m\u001b[39m\"\u001b[39m\n\u001b[0;32m    357\u001b[0m \u001b[39mwhile\u001b[39;00m \u001b[39mTrue\u001b[39;00m:\n\u001b[1;32m--> 358\u001b[0m     text \u001b[39m=\u001b[39m \u001b[39mself\u001b[39;49m\u001b[39m.\u001b[39;49m_read_line()\n\u001b[0;32m    359\u001b[0m     splitted_text \u001b[39m=\u001b[39m text\u001b[39m.\u001b[39msplit(\u001b[39m\"\u001b[39m\u001b[39m \u001b[39m\u001b[39m\"\u001b[39m)\n\u001b[0;32m    360\u001b[0m     \u001b[39mif\u001b[39;00m splitted_text[\u001b[39m0\u001b[39m] \u001b[39m==\u001b[39m \u001b[39m\"\u001b[39m\u001b[39mbestmove\u001b[39m\u001b[39m\"\u001b[39m:\n",
      "File \u001b[1;32mc:\\Users\\garre\\anaconda3\\lib\\site-packages\\stockfish\\models.py:161\u001b[0m, in \u001b[0;36mStockfish._read_line\u001b[1;34m(self)\u001b[0m\n\u001b[0;32m    159\u001b[0m \u001b[39mif\u001b[39;00m \u001b[39mself\u001b[39m\u001b[39m.\u001b[39m_stockfish\u001b[39m.\u001b[39mpoll() \u001b[39mis\u001b[39;00m \u001b[39mnot\u001b[39;00m \u001b[39mNone\u001b[39;00m:\n\u001b[0;32m    160\u001b[0m     \u001b[39mraise\u001b[39;00m StockfishException(\u001b[39m\"\u001b[39m\u001b[39mThe Stockfish process has crashed\u001b[39m\u001b[39m\"\u001b[39m)\n\u001b[1;32m--> 161\u001b[0m \u001b[39mreturn\u001b[39;00m \u001b[39mself\u001b[39;49m\u001b[39m.\u001b[39;49m_stockfish\u001b[39m.\u001b[39;49mstdout\u001b[39m.\u001b[39;49mreadline()\u001b[39m.\u001b[39mstrip()\n",
      "File \u001b[1;32mc:\\Users\\garre\\anaconda3\\lib\\codecs.py:319\u001b[0m, in \u001b[0;36mBufferedIncrementalDecoder.decode\u001b[1;34m(self, input, final)\u001b[0m\n\u001b[0;32m    314\u001b[0m \u001b[39mdef\u001b[39;00m \u001b[39m_buffer_decode\u001b[39m(\u001b[39mself\u001b[39m, \u001b[39minput\u001b[39m, errors, final):\n\u001b[0;32m    315\u001b[0m     \u001b[39m# Overwrite this method in subclasses: It must decode input\u001b[39;00m\n\u001b[0;32m    316\u001b[0m     \u001b[39m# and return an (output, length consumed) tuple\u001b[39;00m\n\u001b[0;32m    317\u001b[0m     \u001b[39mraise\u001b[39;00m \u001b[39mNotImplementedError\u001b[39;00m\n\u001b[1;32m--> 319\u001b[0m \u001b[39mdef\u001b[39;00m \u001b[39mdecode\u001b[39m(\u001b[39mself\u001b[39m, \u001b[39minput\u001b[39m, final\u001b[39m=\u001b[39m\u001b[39mFalse\u001b[39;00m):\n\u001b[0;32m    320\u001b[0m     \u001b[39m# decode input (taking the buffer into account)\u001b[39;00m\n\u001b[0;32m    321\u001b[0m     data \u001b[39m=\u001b[39m \u001b[39mself\u001b[39m\u001b[39m.\u001b[39mbuffer \u001b[39m+\u001b[39m \u001b[39minput\u001b[39m\n\u001b[0;32m    322\u001b[0m     (result, consumed) \u001b[39m=\u001b[39m \u001b[39mself\u001b[39m\u001b[39m.\u001b[39m_buffer_decode(data, \u001b[39mself\u001b[39m\u001b[39m.\u001b[39merrors, final)\n",
      "\u001b[1;31mKeyboardInterrupt\u001b[0m: "
     ]
    }
   ],
   "source": [
    "# Convert board states to FEN strings\n",
    "fen_list = [board.fen() for game in board_states for board in game]\n",
    "\n",
    "# Process fen_list and populate the cache with best moves\n",
    "for fen in fen_list[len(cache):]:\n",
    "    if fen not in cache:\n",
    "        # Set the position in Stockfish\n",
    "        stockfish.set_fen_position(fen)\n",
    "\n",
    "        # Get the best move from Stockfish\n",
    "        best_move = stockfish.get_best_move()\n",
    "\n",
    "        # Add the best move to the cache\n",
    "        cache[fen] = best_move"
   ]
  },
  {
   "cell_type": "code",
   "execution_count": 11,
   "metadata": {},
   "outputs": [],
   "source": [
    "cache2 = cache"
   ]
  },
  {
   "cell_type": "code",
   "execution_count": 18,
   "metadata": {},
   "outputs": [
    {
     "data": {
      "text/plain": [
       "1965350"
      ]
     },
     "execution_count": 18,
     "metadata": {},
     "output_type": "execute_result"
    }
   ],
   "source": [
    "len(cache)"
   ]
  },
  {
   "cell_type": "code",
   "execution_count": 14,
   "metadata": {},
   "outputs": [],
   "source": [
    "# Save the cache as a pickle file\n",
    "with open(\"updated_cache.pkl\", \"wb\") as file:\n",
    "    pickle.dump(cache, file)"
   ]
  },
  {
   "cell_type": "code",
   "execution_count": null,
   "metadata": {},
   "outputs": [],
   "source": [
    "%%timeit \n",
    "fen in cache"
   ]
  },
  {
   "cell_type": "code",
   "execution_count": null,
   "metadata": {},
   "outputs": [],
   "source": [
    "%%timeit\n",
    "\n",
    "stockfish.set_fen_position(fen)\n",
    "\n",
    "stockfish.get_best_move()"
   ]
  },
  {
   "cell_type": "code",
   "execution_count": null,
   "metadata": {},
   "outputs": [],
   "source": [
    "len(cache)"
   ]
  }
 ],
 "metadata": {
  "kernelspec": {
   "display_name": "base",
   "language": "python",
   "name": "python3"
  },
  "language_info": {
   "codemirror_mode": {
    "name": "ipython",
    "version": 3
   },
   "file_extension": ".py",
   "mimetype": "text/x-python",
   "name": "python",
   "nbconvert_exporter": "python",
   "pygments_lexer": "ipython3",
   "version": "3.9.12"
  },
  "orig_nbformat": 4
 },
 "nbformat": 4,
 "nbformat_minor": 2
}
